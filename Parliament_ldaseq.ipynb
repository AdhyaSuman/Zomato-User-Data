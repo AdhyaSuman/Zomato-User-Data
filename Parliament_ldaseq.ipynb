{
  "nbformat": 4,
  "nbformat_minor": 0,
  "metadata": {
    "colab": {
      "name": "Parliament_ldaseq.ipynb",
      "provenance": [],
      "mount_file_id": "1rwTR43xAYeY9xVZY_4T4jnmDjX6rsAwR",
      "authorship_tag": "ABX9TyOK06GtpZ1mUuftSm81Q8yY",
      "include_colab_link": true
    },
    "kernelspec": {
      "name": "python3",
      "display_name": "Python 3"
    }
  },
  "cells": [
    {
      "cell_type": "markdown",
      "metadata": {
        "id": "view-in-github",
        "colab_type": "text"
      },
      "source": [
        "<a href=\"https://colab.research.google.com/github/AdhyaSuman/Zomato-User-Data/blob/master/Parliament_ldaseq.ipynb\" target=\"_parent\"><img src=\"https://colab.research.google.com/assets/colab-badge.svg\" alt=\"Open In Colab\"/></a>"
      ]
    },
    {
      "cell_type": "code",
      "metadata": {
        "id": "yhvFykkK39Tr",
        "colab_type": "code",
        "colab": {}
      },
      "source": [
        "# setting up our imports\n",
        "from gensim.models import ldaseqmodel\n",
        "from gensim.corpora import Dictionary, bleicorpus\n",
        "import numpy\n",
        "from gensim.matutils import hellinger"
      ],
      "execution_count": 44,
      "outputs": []
    },
    {
      "cell_type": "code",
      "metadata": {
        "id": "TqFstuB24awp",
        "colab_type": "code",
        "colab": {
          "base_uri": "https://localhost:8080/",
          "height": 71
        },
        "outputId": "c97e7722-0ae6-46b5-d835-8a02347500d9"
      },
      "source": [
        "# loading our corpus and dictionary\n",
        "try:\n",
        "    dictionary = Dictionary.load('/content/drive/My Drive/PhD/data_set/Parliament/parliament_dictionary')\n",
        "except FileNotFoundError as e:\n",
        "    raise ValueError(\"SKIP: Please download the Corpus/news_dictionary dataset.\")\n",
        "corpus = bleicorpus.BleiCorpus('/content/drive/My Drive/PhD/data_set/Parliament/parliament_corpus')"
      ],
      "execution_count": 45,
      "outputs": [
        {
          "output_type": "stream",
          "text": [
            "/usr/local/lib/python3.6/dist-packages/smart_open/smart_open_lib.py:254: UserWarning: This function is deprecated, use smart_open.open instead. See the migration notes for details: https://github.com/RaRe-Technologies/smart_open/blob/master/README.rst#migrating-to-the-new-open-function\n",
            "  'See the migration notes for details: %s' % _MIGRATION_NOTES_URL\n"
          ],
          "name": "stderr"
        }
      ]
    },
    {
      "cell_type": "code",
      "metadata": {
        "id": "l97bj56946ae",
        "colab_type": "code",
        "colab": {}
      },
      "source": [
        "#importing the time_slice that we already created\n",
        "import pickle\n",
        "file_time = open('/content/drive/My Drive/PhD/data_set/Parliament/time_slice.pkl', 'rb')\n",
        "time_slice = pickle.load(file_time)\n",
        "file_time.close()"
      ],
      "execution_count": 46,
      "outputs": []
    },
    {
      "cell_type": "code",
      "metadata": {
        "id": "vI3oUBI05mi5",
        "colab_type": "code",
        "colab": {
          "base_uri": "https://localhost:8080/",
          "height": 34
        },
        "outputId": "c84e29ed-c04e-44e9-ba2f-581d8e0ae013"
      },
      "source": [
        "time_slice"
      ],
      "execution_count": 47,
      "outputs": [
        {
          "output_type": "execute_result",
          "data": {
            "text/plain": [
              "[271, 500, 500, 500, 500, 500, 500, 500, 500]"
            ]
          },
          "metadata": {
            "tags": []
          },
          "execution_count": 47
        }
      ]
    },
    {
      "cell_type": "code",
      "metadata": {
        "id": "2eZpJJPl5GAC",
        "colab_type": "code",
        "colab": {
          "base_uri": "https://localhost:8080/",
          "height": 51
        },
        "outputId": "941581b0-bb91-4104-fbe9-23cba0a79d81"
      },
      "source": [
        "#check\n",
        "print(sum(time_slice))\n",
        "print(len(corpus))"
      ],
      "execution_count": 48,
      "outputs": [
        {
          "output_type": "stream",
          "text": [
            "4271\n",
            "4271\n"
          ],
          "name": "stdout"
        }
      ]
    },
    {
      "cell_type": "code",
      "metadata": {
        "id": "_zglr2k86O_D",
        "colab_type": "code",
        "colab": {
          "base_uri": "https://localhost:8080/",
          "height": 1000
        },
        "outputId": "2653596d-f1b6-4e7c-c918-e133bedc4fb8"
      },
      "source": [
        "#learning of the model\n",
        "ldaseq = ldaseqmodel.LdaSeqModel(corpus=corpus, id2word=dictionary, time_slice=time_slice, num_topics=5)"
      ],
      "execution_count": null,
      "outputs": [
        {
          "output_type": "stream",
          "text": [
            "/usr/local/lib/python3.6/dist-packages/smart_open/smart_open_lib.py:254: UserWarning: This function is deprecated, use smart_open.open instead. See the migration notes for details: https://github.com/RaRe-Technologies/smart_open/blob/master/README.rst#migrating-to-the-new-open-function\n",
            "  'See the migration notes for details: %s' % _MIGRATION_NOTES_URL\n",
            "/usr/local/lib/python3.6/dist-packages/gensim/models/ldaseqmodel.py:1472: RuntimeWarning: invalid value encountered in double_scalars\n",
            "  converged = np.fabs((lhood_old - lhood) / (lhood_old * total))\n",
            "/usr/local/lib/python3.6/dist-packages/gensim/models/ldaseqmodel.py:290: RuntimeWarning: divide by zero encountered in double_scalars\n",
            "  convergence = np.fabs((bound - old_bound) / old_bound)\n",
            "/usr/local/lib/python3.6/dist-packages/smart_open/smart_open_lib.py:254: UserWarning: This function is deprecated, use smart_open.open instead. See the migration notes for details: https://github.com/RaRe-Technologies/smart_open/blob/master/README.rst#migrating-to-the-new-open-function\n",
            "  'See the migration notes for details: %s' % _MIGRATION_NOTES_URL\n",
            "/usr/local/lib/python3.6/dist-packages/gensim/models/ldaseqmodel.py:1472: RuntimeWarning: invalid value encountered in double_scalars\n",
            "  converged = np.fabs((lhood_old - lhood) / (lhood_old * total))\n",
            "/usr/local/lib/python3.6/dist-packages/smart_open/smart_open_lib.py:254: UserWarning: This function is deprecated, use smart_open.open instead. See the migration notes for details: https://github.com/RaRe-Technologies/smart_open/blob/master/README.rst#migrating-to-the-new-open-function\n",
            "  'See the migration notes for details: %s' % _MIGRATION_NOTES_URL\n",
            "/usr/local/lib/python3.6/dist-packages/gensim/models/ldaseqmodel.py:1472: RuntimeWarning: invalid value encountered in double_scalars\n",
            "  converged = np.fabs((lhood_old - lhood) / (lhood_old * total))\n",
            "/usr/local/lib/python3.6/dist-packages/smart_open/smart_open_lib.py:254: UserWarning: This function is deprecated, use smart_open.open instead. See the migration notes for details: https://github.com/RaRe-Technologies/smart_open/blob/master/README.rst#migrating-to-the-new-open-function\n",
            "  'See the migration notes for details: %s' % _MIGRATION_NOTES_URL\n",
            "/usr/local/lib/python3.6/dist-packages/gensim/models/ldaseqmodel.py:1472: RuntimeWarning: invalid value encountered in double_scalars\n",
            "  converged = np.fabs((lhood_old - lhood) / (lhood_old * total))\n",
            "/usr/local/lib/python3.6/dist-packages/smart_open/smart_open_lib.py:254: UserWarning: This function is deprecated, use smart_open.open instead. See the migration notes for details: https://github.com/RaRe-Technologies/smart_open/blob/master/README.rst#migrating-to-the-new-open-function\n",
            "  'See the migration notes for details: %s' % _MIGRATION_NOTES_URL\n",
            "/usr/local/lib/python3.6/dist-packages/gensim/models/ldaseqmodel.py:1472: RuntimeWarning: invalid value encountered in double_scalars\n",
            "  converged = np.fabs((lhood_old - lhood) / (lhood_old * total))\n",
            "/usr/local/lib/python3.6/dist-packages/smart_open/smart_open_lib.py:254: UserWarning: This function is deprecated, use smart_open.open instead. See the migration notes for details: https://github.com/RaRe-Technologies/smart_open/blob/master/README.rst#migrating-to-the-new-open-function\n",
            "  'See the migration notes for details: %s' % _MIGRATION_NOTES_URL\n",
            "/usr/local/lib/python3.6/dist-packages/gensim/models/ldaseqmodel.py:1472: RuntimeWarning: invalid value encountered in double_scalars\n",
            "  converged = np.fabs((lhood_old - lhood) / (lhood_old * total))\n",
            "/usr/local/lib/python3.6/dist-packages/smart_open/smart_open_lib.py:254: UserWarning: This function is deprecated, use smart_open.open instead. See the migration notes for details: https://github.com/RaRe-Technologies/smart_open/blob/master/README.rst#migrating-to-the-new-open-function\n",
            "  'See the migration notes for details: %s' % _MIGRATION_NOTES_URL\n",
            "/usr/local/lib/python3.6/dist-packages/gensim/models/ldaseqmodel.py:1472: RuntimeWarning: invalid value encountered in double_scalars\n",
            "  converged = np.fabs((lhood_old - lhood) / (lhood_old * total))\n",
            "/usr/local/lib/python3.6/dist-packages/smart_open/smart_open_lib.py:254: UserWarning: This function is deprecated, use smart_open.open instead. See the migration notes for details: https://github.com/RaRe-Technologies/smart_open/blob/master/README.rst#migrating-to-the-new-open-function\n",
            "  'See the migration notes for details: %s' % _MIGRATION_NOTES_URL\n",
            "/usr/local/lib/python3.6/dist-packages/gensim/models/ldaseqmodel.py:1472: RuntimeWarning: invalid value encountered in double_scalars\n",
            "  converged = np.fabs((lhood_old - lhood) / (lhood_old * total))\n",
            "/usr/local/lib/python3.6/dist-packages/smart_open/smart_open_lib.py:254: UserWarning: This function is deprecated, use smart_open.open instead. See the migration notes for details: https://github.com/RaRe-Technologies/smart_open/blob/master/README.rst#migrating-to-the-new-open-function\n",
            "  'See the migration notes for details: %s' % _MIGRATION_NOTES_URL\n",
            "/usr/local/lib/python3.6/dist-packages/gensim/models/ldaseqmodel.py:1472: RuntimeWarning: invalid value encountered in double_scalars\n",
            "  converged = np.fabs((lhood_old - lhood) / (lhood_old * total))\n",
            "/usr/local/lib/python3.6/dist-packages/smart_open/smart_open_lib.py:254: UserWarning: This function is deprecated, use smart_open.open instead. See the migration notes for details: https://github.com/RaRe-Technologies/smart_open/blob/master/README.rst#migrating-to-the-new-open-function\n",
            "  'See the migration notes for details: %s' % _MIGRATION_NOTES_URL\n",
            "/usr/local/lib/python3.6/dist-packages/gensim/models/ldaseqmodel.py:1472: RuntimeWarning: invalid value encountered in double_scalars\n",
            "  converged = np.fabs((lhood_old - lhood) / (lhood_old * total))\n",
            "/usr/local/lib/python3.6/dist-packages/smart_open/smart_open_lib.py:254: UserWarning: This function is deprecated, use smart_open.open instead. See the migration notes for details: https://github.com/RaRe-Technologies/smart_open/blob/master/README.rst#migrating-to-the-new-open-function\n",
            "  'See the migration notes for details: %s' % _MIGRATION_NOTES_URL\n",
            "/usr/local/lib/python3.6/dist-packages/gensim/models/ldaseqmodel.py:1472: RuntimeWarning: invalid value encountered in double_scalars\n",
            "  converged = np.fabs((lhood_old - lhood) / (lhood_old * total))\n",
            "/usr/local/lib/python3.6/dist-packages/smart_open/smart_open_lib.py:254: UserWarning: This function is deprecated, use smart_open.open instead. See the migration notes for details: https://github.com/RaRe-Technologies/smart_open/blob/master/README.rst#migrating-to-the-new-open-function\n",
            "  'See the migration notes for details: %s' % _MIGRATION_NOTES_URL\n",
            "/usr/local/lib/python3.6/dist-packages/gensim/models/ldaseqmodel.py:1472: RuntimeWarning: invalid value encountered in double_scalars\n",
            "  converged = np.fabs((lhood_old - lhood) / (lhood_old * total))\n",
            "/usr/local/lib/python3.6/dist-packages/smart_open/smart_open_lib.py:254: UserWarning: This function is deprecated, use smart_open.open instead. See the migration notes for details: https://github.com/RaRe-Technologies/smart_open/blob/master/README.rst#migrating-to-the-new-open-function\n",
            "  'See the migration notes for details: %s' % _MIGRATION_NOTES_URL\n",
            "/usr/local/lib/python3.6/dist-packages/gensim/models/ldaseqmodel.py:1472: RuntimeWarning: invalid value encountered in double_scalars\n",
            "  converged = np.fabs((lhood_old - lhood) / (lhood_old * total))\n",
            "/usr/local/lib/python3.6/dist-packages/smart_open/smart_open_lib.py:254: UserWarning: This function is deprecated, use smart_open.open instead. See the migration notes for details: https://github.com/RaRe-Technologies/smart_open/blob/master/README.rst#migrating-to-the-new-open-function\n",
            "  'See the migration notes for details: %s' % _MIGRATION_NOTES_URL\n",
            "/usr/local/lib/python3.6/dist-packages/gensim/models/ldaseqmodel.py:1472: RuntimeWarning: invalid value encountered in double_scalars\n",
            "  converged = np.fabs((lhood_old - lhood) / (lhood_old * total))\n",
            "/usr/local/lib/python3.6/dist-packages/smart_open/smart_open_lib.py:254: UserWarning: This function is deprecated, use smart_open.open instead. See the migration notes for details: https://github.com/RaRe-Technologies/smart_open/blob/master/README.rst#migrating-to-the-new-open-function\n",
            "  'See the migration notes for details: %s' % _MIGRATION_NOTES_URL\n",
            "/usr/local/lib/python3.6/dist-packages/gensim/models/ldaseqmodel.py:1472: RuntimeWarning: invalid value encountered in double_scalars\n",
            "  converged = np.fabs((lhood_old - lhood) / (lhood_old * total))\n",
            "/usr/local/lib/python3.6/dist-packages/smart_open/smart_open_lib.py:254: UserWarning: This function is deprecated, use smart_open.open instead. See the migration notes for details: https://github.com/RaRe-Technologies/smart_open/blob/master/README.rst#migrating-to-the-new-open-function\n",
            "  'See the migration notes for details: %s' % _MIGRATION_NOTES_URL\n",
            "/usr/local/lib/python3.6/dist-packages/gensim/models/ldaseqmodel.py:1472: RuntimeWarning: invalid value encountered in double_scalars\n",
            "  converged = np.fabs((lhood_old - lhood) / (lhood_old * total))\n",
            "/usr/local/lib/python3.6/dist-packages/smart_open/smart_open_lib.py:254: UserWarning: This function is deprecated, use smart_open.open instead. See the migration notes for details: https://github.com/RaRe-Technologies/smart_open/blob/master/README.rst#migrating-to-the-new-open-function\n",
            "  'See the migration notes for details: %s' % _MIGRATION_NOTES_URL\n",
            "/usr/local/lib/python3.6/dist-packages/gensim/models/ldaseqmodel.py:1472: RuntimeWarning: invalid value encountered in double_scalars\n",
            "  converged = np.fabs((lhood_old - lhood) / (lhood_old * total))\n",
            "/usr/local/lib/python3.6/dist-packages/smart_open/smart_open_lib.py:254: UserWarning: This function is deprecated, use smart_open.open instead. See the migration notes for details: https://github.com/RaRe-Technologies/smart_open/blob/master/README.rst#migrating-to-the-new-open-function\n",
            "  'See the migration notes for details: %s' % _MIGRATION_NOTES_URL\n",
            "/usr/local/lib/python3.6/dist-packages/gensim/models/ldaseqmodel.py:1472: RuntimeWarning: invalid value encountered in double_scalars\n",
            "  converged = np.fabs((lhood_old - lhood) / (lhood_old * total))\n",
            "/usr/local/lib/python3.6/dist-packages/smart_open/smart_open_lib.py:254: UserWarning: This function is deprecated, use smart_open.open instead. See the migration notes for details: https://github.com/RaRe-Technologies/smart_open/blob/master/README.rst#migrating-to-the-new-open-function\n",
            "  'See the migration notes for details: %s' % _MIGRATION_NOTES_URL\n",
            "/usr/local/lib/python3.6/dist-packages/gensim/models/ldaseqmodel.py:1472: RuntimeWarning: invalid value encountered in double_scalars\n",
            "  converged = np.fabs((lhood_old - lhood) / (lhood_old * total))\n",
            "/usr/local/lib/python3.6/dist-packages/smart_open/smart_open_lib.py:254: UserWarning: This function is deprecated, use smart_open.open instead. See the migration notes for details: https://github.com/RaRe-Technologies/smart_open/blob/master/README.rst#migrating-to-the-new-open-function\n",
            "  'See the migration notes for details: %s' % _MIGRATION_NOTES_URL\n",
            "/usr/local/lib/python3.6/dist-packages/gensim/models/ldaseqmodel.py:1472: RuntimeWarning: invalid value encountered in double_scalars\n",
            "  converged = np.fabs((lhood_old - lhood) / (lhood_old * total))\n",
            "/usr/local/lib/python3.6/dist-packages/smart_open/smart_open_lib.py:254: UserWarning: This function is deprecated, use smart_open.open instead. See the migration notes for details: https://github.com/RaRe-Technologies/smart_open/blob/master/README.rst#migrating-to-the-new-open-function\n",
            "  'See the migration notes for details: %s' % _MIGRATION_NOTES_URL\n",
            "/usr/local/lib/python3.6/dist-packages/gensim/models/ldaseqmodel.py:1472: RuntimeWarning: invalid value encountered in double_scalars\n",
            "  converged = np.fabs((lhood_old - lhood) / (lhood_old * total))\n"
          ],
          "name": "stderr"
        }
      ]
    },
    {
      "cell_type": "code",
      "metadata": {
        "id": "bBKr4AJG79Ek",
        "colab_type": "code",
        "colab": {
          "base_uri": "https://localhost:8080/",
          "height": 197
        },
        "outputId": "88617fce-795e-4550-92d0-0479971e1630"
      },
      "source": [
        "#save the trained model\n",
        "from gensim.test.utils import datapath\n",
        "temp_file = datapath(\"/content/drive/My Drive/PhD/data_set/Parliament/ldaseq_model_pariament_1\")\n",
        "ldaseq.save(temp_file)"
      ],
      "execution_count": 49,
      "outputs": [
        {
          "output_type": "error",
          "ename": "NameError",
          "evalue": "ignored",
          "traceback": [
            "\u001b[0;31m---------------------------------------------------------------------------\u001b[0m",
            "\u001b[0;31mNameError\u001b[0m                                 Traceback (most recent call last)",
            "\u001b[0;32m<ipython-input-49-aadab8b74612>\u001b[0m in \u001b[0;36m<module>\u001b[0;34m()\u001b[0m\n\u001b[1;32m      2\u001b[0m \u001b[0;32mfrom\u001b[0m \u001b[0mgensim\u001b[0m\u001b[0;34m.\u001b[0m\u001b[0mtest\u001b[0m\u001b[0;34m.\u001b[0m\u001b[0mutils\u001b[0m \u001b[0;32mimport\u001b[0m \u001b[0mdatapath\u001b[0m\u001b[0;34m\u001b[0m\u001b[0;34m\u001b[0m\u001b[0m\n\u001b[1;32m      3\u001b[0m \u001b[0mtemp_file\u001b[0m \u001b[0;34m=\u001b[0m \u001b[0mdatapath\u001b[0m\u001b[0;34m(\u001b[0m\u001b[0;34m\"/content/drive/My Drive/PhD/data_set/Parliament/ldaseq_model_pariament_1\"\u001b[0m\u001b[0;34m)\u001b[0m\u001b[0;34m\u001b[0m\u001b[0;34m\u001b[0m\u001b[0m\n\u001b[0;32m----> 4\u001b[0;31m \u001b[0mldaseq\u001b[0m\u001b[0;34m.\u001b[0m\u001b[0msave\u001b[0m\u001b[0;34m(\u001b[0m\u001b[0mtemp_file\u001b[0m\u001b[0;34m)\u001b[0m\u001b[0;34m\u001b[0m\u001b[0;34m\u001b[0m\u001b[0m\n\u001b[0m",
            "\u001b[0;31mNameError\u001b[0m: name 'ldaseq' is not defined"
          ]
        }
      ]
    },
    {
      "cell_type": "code",
      "metadata": {
        "id": "10PIKFyd8M_f",
        "colab_type": "code",
        "colab": {
          "base_uri": "https://localhost:8080/",
          "height": 71
        },
        "outputId": "8757154b-5ad7-4fa7-ed58-66b28d4b30fc"
      },
      "source": [
        "#load the model\n",
        "from gensim.models import ldaseqmodel\n",
        "from gensim.test.utils import datapath\n",
        "temp_file_load = datapath(\"/content/drive/My Drive/PhD/data_set/Parliament/ldaseq_model_pariament\")\n",
        "ldaseq_load = ldaseqmodel.LdaSeqModel.load(temp_file_load)"
      ],
      "execution_count": 65,
      "outputs": [
        {
          "output_type": "stream",
          "text": [
            "/usr/local/lib/python3.6/dist-packages/smart_open/smart_open_lib.py:254: UserWarning: This function is deprecated, use smart_open.open instead. See the migration notes for details: https://github.com/RaRe-Technologies/smart_open/blob/master/README.rst#migrating-to-the-new-open-function\n",
            "  'See the migration notes for details: %s' % _MIGRATION_NOTES_URL\n"
          ],
          "name": "stderr"
        }
      ]
    },
    {
      "cell_type": "markdown",
      "metadata": {
        "id": "e_DILMjx3Axw",
        "colab_type": "text"
      },
      "source": [
        "# Printing Topics"
      ]
    },
    {
      "cell_type": "markdown",
      "metadata": {
        "id": "FYRbyQCu3Lj_",
        "colab_type": "text"
      },
      "source": [
        "To print all topics from a particular time-period, simply use print_topics. The input parameter to print_topics is a time-slice option. By passing 0 we are seeing the topics in the 1st time-slice.\n",
        "\n",
        "The result would be a list of lists, where each individual list contains a tuple of the most probable words in the topic. i.e (word, word_probability)"
      ]
    },
    {
      "cell_type": "code",
      "metadata": {
        "id": "2bcYcy_wpeCf",
        "colab_type": "code",
        "colab": {
          "base_uri": "https://localhost:8080/",
          "height": 1000
        },
        "outputId": "4b2fe66c-8549-436a-f668-a55df316ada7"
      },
      "source": [
        "ldaseq_load.print_topics(time=0)"
      ],
      "execution_count": 66,
      "outputs": [
        {
          "output_type": "execute_result",
          "data": {
            "text/plain": [
              "[[('minist', 0.01514571527923347),\n",
              "  ('ministri', 0.013340160141320246),\n",
              "  ('state', 0.013031475878440208),\n",
              "  ('govern', 0.011626903597369618),\n",
              "  ('detail', 0.011025843100919),\n",
              "  ('india', 0.009174718441937324),\n",
              "  ('financ', 0.00806402234824106),\n",
              "  ('fact', 0.006841535923022801),\n",
              "  ('sector', 0.0060680435678781945),\n",
              "  ('countri', 0.0057083999571429156),\n",
              "  ('compani', 0.005461855120117859),\n",
              "  ('public', 0.005200243983181667),\n",
              "  ('industri', 0.005090907474034672),\n",
              "  ('market', 0.005060805710691795),\n",
              "  ('reason', 0.005019141855589959),\n",
              "  ('meena', 0.004855265474671683),\n",
              "  ('narain', 0.0047407580500020835),\n",
              "  ('namo', 0.004538669618547682),\n",
              "  ('product', 0.004463898880946588),\n",
              "  ('bank', 0.004438104852071642)],\n",
              " [('state', 0.013524061395710628),\n",
              "  ('scheme', 0.013417442627053954),\n",
              "  ('minist', 0.012635346010528131),\n",
              "  ('govern', 0.011670539348052365),\n",
              "  ('develop', 0.01142852686591494),\n",
              "  ('ministri', 0.01015342712981302),\n",
              "  ('detail', 0.009851479306608192),\n",
              "  ('rural', 0.009282158424647666),\n",
              "  ('provid', 0.008410864413965465),\n",
              "  ('implement', 0.008065539536796774),\n",
              "  ('nation', 0.007873367763353107),\n",
              "  ('fund', 0.006976703040368563),\n",
              "  ('central', 0.006860544257759318),\n",
              "  ('employ', 0.005964282755606389),\n",
              "  ('countri', 0.0057859044825478625),\n",
              "  ('wise', 0.005727067418362422),\n",
              "  ('programm', 0.005554933988202217),\n",
              "  ('number', 0.0052169069858464985),\n",
              "  ('financi', 0.005164335241669844),\n",
              "  ('assist', 0.00515000664418659)],\n",
              " [('minist', 0.015687911794908062),\n",
              "  ('health', 0.01504375289777241),\n",
              "  ('famili', 0.01304292602941039),\n",
              "  ('welfar', 0.012870032306044879),\n",
              "  ('govern', 0.01258819981854624),\n",
              "  ('detail', 0.01175891867025732),\n",
              "  ('state', 0.011515145927843234),\n",
              "  ('countri', 0.0076640266063088104),\n",
              "  ('india', 0.007110960923755449),\n",
              "  ('ghulam', 0.006961598522639293),\n",
              "  ('nabi', 0.006960758304107014),\n",
              "  ('azad', 0.006917546878637966),\n",
              "  ('environ', 0.006612380658562476),\n",
              "  ('central', 0.0059416812964535595),\n",
              "  ('forest', 0.005869804918424431),\n",
              "  ('control', 0.005846575165741592),\n",
              "  ('nation', 0.005724910923711774),\n",
              "  ('includ', 0.005608749907592529),\n",
              "  ('fact', 0.005589284244591474),\n",
              "  ('medic', 0.005499405648597474)],\n",
              " [('minist', 0.016718614699820968),\n",
              "  ('govern', 0.014043056810139674),\n",
              "  ('state', 0.011599311347700184),\n",
              "  ('detail', 0.01092606551155835),\n",
              "  ('affair', 0.009619142770663667),\n",
              "  ('ministri', 0.00924269624464034),\n",
              "  ('india', 0.007812637914730395),\n",
              "  ('case', 0.0075825442757682295),\n",
              "  ('issu', 0.0068906659505371904),\n",
              "  ('law', 0.006616212865473997),\n",
              "  ('number', 0.006109565864586069),\n",
              "  ('fact', 0.005599515203083566),\n",
              "  ('includ', 0.005594647837355207),\n",
              "  ('action', 0.00550512974640144),\n",
              "  ('court', 0.0051654542439765125),\n",
              "  ('step', 0.004978212800549423),\n",
              "  ('countri', 0.004914110756291372),\n",
              "  ('report', 0.004830854544137907),\n",
              "  ('indian', 0.004665002349265803),\n",
              "  ('matter', 0.004614865093183822)],\n",
              " [('minist', 0.01777677889989396),\n",
              "  ('state', 0.015895318956355566),\n",
              "  ('hous', 0.014629045448758083),\n",
              "  ('tabl', 0.014384065920729045),\n",
              "  ('laid', 0.013515653410031761),\n",
              "  ('detail', 0.013180159881427693),\n",
              "  ('question', 0.012817754086257262),\n",
              "  ('rajya', 0.012506624588213507),\n",
              "  ('sabha', 0.012379641442762077),\n",
              "  ('govern', 0.012138810675118149),\n",
              "  ('ministri', 0.012132733040641877),\n",
              "  ('statement', 0.011383337624511778),\n",
              "  ('repli', 0.010571948149433514),\n",
              "  ('star', 0.009113543438817668),\n",
              "  ('propos', 0.008682001872759696),\n",
              "  ('pradesh', 0.008339552216292226),\n",
              "  ('project', 0.0074806902072662666),\n",
              "  ('answer', 0.007420288574689949),\n",
              "  ('refer', 0.007285419506691631),\n",
              "  ('develop', 0.007007228459883908)]]"
            ]
          },
          "metadata": {
            "tags": []
          },
          "execution_count": 66
        }
      ]
    },
    {
      "cell_type": "markdown",
      "metadata": {
        "id": "uK4CiJNN3V0N",
        "colab_type": "text"
      },
      "source": [
        "# Looking for Topic Evolution"
      ]
    },
    {
      "cell_type": "markdown",
      "metadata": {
        "id": "5VELoSf13fp6",
        "colab_type": "text"
      },
      "source": [
        "To fix a topic and see it evolve, use print_topic_times. The input parameter is the topic_id."
      ]
    },
    {
      "cell_type": "code",
      "metadata": {
        "id": "mFM946zyphGb",
        "colab_type": "code",
        "colab": {
          "base_uri": "https://localhost:8080/",
          "height": 1000
        },
        "outputId": "c4f10128-939f-4de3-fb2f-307e19345fac"
      },
      "source": [
        "ldaseq_load.print_topic_times(topic=0)"
      ],
      "execution_count": 67,
      "outputs": [
        {
          "output_type": "execute_result",
          "data": {
            "text/plain": [
              "[[('minist', 0.01514571527923347),\n",
              "  ('ministri', 0.013340160141320246),\n",
              "  ('state', 0.013031475878440208),\n",
              "  ('govern', 0.011626903597369618),\n",
              "  ('detail', 0.011025843100919),\n",
              "  ('india', 0.009174718441937324),\n",
              "  ('financ', 0.00806402234824106),\n",
              "  ('fact', 0.006841535923022801),\n",
              "  ('sector', 0.0060680435678781945),\n",
              "  ('countri', 0.0057083999571429156),\n",
              "  ('compani', 0.005461855120117859),\n",
              "  ('public', 0.005200243983181667),\n",
              "  ('industri', 0.005090907474034672),\n",
              "  ('market', 0.005060805710691795),\n",
              "  ('reason', 0.005019141855589959),\n",
              "  ('meena', 0.004855265474671683),\n",
              "  ('narain', 0.0047407580500020835),\n",
              "  ('namo', 0.004538669618547682),\n",
              "  ('product', 0.004463898880946588),\n",
              "  ('bank', 0.004438104852071642)],\n",
              " [('minist', 0.015522576190136837),\n",
              "  ('ministri', 0.013391425747737128),\n",
              "  ('state', 0.012821430291008067),\n",
              "  ('govern', 0.01181673153713223),\n",
              "  ('detail', 0.011543348581961826),\n",
              "  ('india', 0.00940084891331989),\n",
              "  ('fact', 0.006838107866258652),\n",
              "  ('financ', 0.006449281911521426),\n",
              "  ('sector', 0.006319773531960135),\n",
              "  ('compani', 0.005800023089888685),\n",
              "  ('countri', 0.005619953862417984),\n",
              "  ('reason', 0.005316312759668892),\n",
              "  ('industri', 0.0052573303784791605),\n",
              "  ('market', 0.0051963603039894175),\n",
              "  ('public', 0.0049797689878852466),\n",
              "  ('product', 0.004621491238384456),\n",
              "  ('propos', 0.004261674014167907),\n",
              "  ('price', 0.004238861919527719),\n",
              "  ('increas', 0.004124982583714148),\n",
              "  ('financi', 0.00411963351669558)],\n",
              " [('minist', 0.015494128230781811),\n",
              "  ('ministri', 0.013278887738928939),\n",
              "  ('state', 0.012464615843660456),\n",
              "  ('detail', 0.011926878479523355),\n",
              "  ('govern', 0.011690830630710775),\n",
              "  ('india', 0.009369632342417122),\n",
              "  ('sector', 0.006847640149661262),\n",
              "  ('fact', 0.00650642659955043),\n",
              "  ('financ', 0.005815606806809795),\n",
              "  ('industri', 0.005814835149001876),\n",
              "  ('compani', 0.005767922552908216),\n",
              "  ('countri', 0.005650307026341452),\n",
              "  ('reason', 0.005412753698930347),\n",
              "  ('market', 0.0052248303403068085),\n",
              "  ('public', 0.004932326332832743),\n",
              "  ('product', 0.004886385916334863),\n",
              "  ('price', 0.004567136411779745),\n",
              "  ('propos', 0.0042878746891101),\n",
              "  ('financi', 0.004201900805230122),\n",
              "  ('polici', 0.004179994878681027)],\n",
              " [('minist', 0.015245933983709048),\n",
              "  ('ministri', 0.013381921187730824),\n",
              "  ('state', 0.012552333598285628),\n",
              "  ('detail', 0.012082458960573994),\n",
              "  ('govern', 0.011497412073110988),\n",
              "  ('india', 0.00904686715567893),\n",
              "  ('sector', 0.007127674250847565),\n",
              "  ('fact', 0.006144294171053209),\n",
              "  ('industri', 0.006108019198106109),\n",
              "  ('countri', 0.005747498796264074),\n",
              "  ('compani', 0.005645498893971693),\n",
              "  ('reason', 0.005573224237135275),\n",
              "  ('financ', 0.005376748823556381),\n",
              "  ('market', 0.005255174893625692),\n",
              "  ('product', 0.0050962017831299574),\n",
              "  ('price', 0.004768694458628589),\n",
              "  ('public', 0.004767540411457304),\n",
              "  ('polici', 0.004382153456434865),\n",
              "  ('financi', 0.004336386859022452),\n",
              "  ('propos', 0.004315246446912874)],\n",
              " [('minist', 0.014690669921296728),\n",
              "  ('ministri', 0.013228056531851391),\n",
              "  ('state', 0.012748965197544558),\n",
              "  ('detail', 0.012349966779643055),\n",
              "  ('govern', 0.01127484967054766),\n",
              "  ('india', 0.008349255705560289),\n",
              "  ('sector', 0.007135697724049899),\n",
              "  ('industri', 0.006190962020754392),\n",
              "  ('compani', 0.005918059995299808),\n",
              "  ('countri', 0.0057703166953466944),\n",
              "  ('market', 0.005583411434306205),\n",
              "  ('fact', 0.005582752271656321),\n",
              "  ('reason', 0.005538127127578295),\n",
              "  ('product', 0.005453708650302774),\n",
              "  ('price', 0.005141010054256697),\n",
              "  ('financ', 0.004963929138951853),\n",
              "  ('public', 0.004812537091123729),\n",
              "  ('polici', 0.004550634916955594),\n",
              "  ('increas', 0.004422433903277307),\n",
              "  ('includ', 0.004260290455737452)],\n",
              " [('minist', 0.01426627959849599),\n",
              "  ('ministri', 0.012979768895166825),\n",
              "  ('state', 0.012705292819240632),\n",
              "  ('detail', 0.012141787086326693),\n",
              "  ('govern', 0.011020375754718887),\n",
              "  ('india', 0.008155507222633909),\n",
              "  ('sector', 0.006763655268607948),\n",
              "  ('industri', 0.0060610983839110245),\n",
              "  ('compani', 0.006060232793983032),\n",
              "  ('countri', 0.005789462823489464),\n",
              "  ('product', 0.0057039165239366404),\n",
              "  ('market', 0.005686206000972492),\n",
              "  ('price', 0.0054277950368362615),\n",
              "  ('reason', 0.005343733074573881),\n",
              "  ('fact', 0.005134552506356709),\n",
              "  ('public', 0.004771468625590566),\n",
              "  ('increas', 0.004583240400364183),\n",
              "  ('polici', 0.0045643745175197765),\n",
              "  ('financ', 0.004503518780894067),\n",
              "  ('charg', 0.004437834653606535)],\n",
              " [('minist', 0.014217030554032083),\n",
              "  ('ministri', 0.012865712843388881),\n",
              "  ('state', 0.012786860450723275),\n",
              "  ('detail', 0.012084142167178388),\n",
              "  ('govern', 0.010705394883234612),\n",
              "  ('india', 0.008116421840254288),\n",
              "  ('sector', 0.006564740308560481),\n",
              "  ('compani', 0.006003984943696003),\n",
              "  ('countri', 0.0058973465891280176),\n",
              "  ('market', 0.005809391767854812),\n",
              "  ('industri', 0.005796941346406504),\n",
              "  ('product', 0.005698876087746451),\n",
              "  ('price', 0.005504227626569184),\n",
              "  ('reason', 0.005089799315643237),\n",
              "  ('fact', 0.005033070251627937),\n",
              "  ('charg', 0.0048270586238118715),\n",
              "  ('public', 0.004801200618478466),\n",
              "  ('increas', 0.0046960678003882955),\n",
              "  ('polici', 0.004531428169007623),\n",
              "  ('financ', 0.0044681256295174545)],\n",
              " [('minist', 0.013856245669315955),\n",
              "  ('state', 0.012494742180441219),\n",
              "  ('ministri', 0.012290461078425532),\n",
              "  ('detail', 0.011695428777948956),\n",
              "  ('govern', 0.01059647659181335),\n",
              "  ('india', 0.007808179761424153),\n",
              "  ('market', 0.006187298167042523),\n",
              "  ('sector', 0.006187202698471216),\n",
              "  ('compani', 0.006022121332182738),\n",
              "  ('countri', 0.005967187852380382),\n",
              "  ('price', 0.005902483583980139),\n",
              "  ('product', 0.005842693725635732),\n",
              "  ('industri', 0.005643548637001818),\n",
              "  ('fact', 0.0052887716646354355),\n",
              "  ('reason', 0.0050276299048460545),\n",
              "  ('public', 0.004892520805244163),\n",
              "  ('increas', 0.00486084634676584),\n",
              "  ('charg', 0.004850294362993199),\n",
              "  ('polici', 0.004491445135842136),\n",
              "  ('includ', 0.004445949001091999)],\n",
              " [('minist', 0.013647481369925636),\n",
              "  ('state', 0.012424537780185792),\n",
              "  ('ministri', 0.012175515374191632),\n",
              "  ('detail', 0.01153117607793328),\n",
              "  ('govern', 0.010496087750306192),\n",
              "  ('india', 0.007883431862387762),\n",
              "  ('market', 0.0062619291131015),\n",
              "  ('compani', 0.006127291040297191),\n",
              "  ('sector', 0.0061211216728390035),\n",
              "  ('price', 0.005991270438484494),\n",
              "  ('product', 0.00588667578724755),\n",
              "  ('countri', 0.005841219256747),\n",
              "  ('industri', 0.005441482954588709),\n",
              "  ('fact', 0.0054009927190513595),\n",
              "  ('public', 0.004966725925659408),\n",
              "  ('reason', 0.004948421002943198),\n",
              "  ('increas', 0.004943325783348963),\n",
              "  ('charg', 0.004666449169643304),\n",
              "  ('polici', 0.004454884571829947),\n",
              "  ('includ', 0.004429864023756016)]]"
            ]
          },
          "metadata": {
            "tags": []
          },
          "execution_count": 67
        }
      ]
    },
    {
      "cell_type": "markdown",
      "metadata": {
        "id": "zFhdXQnA3sm2",
        "colab_type": "text"
      },
      "source": [
        "# Document - Topic Proportions"
      ]
    },
    {
      "cell_type": "code",
      "metadata": {
        "id": "qgeWGvOLqJk9",
        "colab_type": "code",
        "colab": {
          "base_uri": "https://localhost:8080/",
          "height": 88
        },
        "outputId": "d40b1f21-5d73-48be-fa92-071508249f18"
      },
      "source": [
        "# to check Document - Topic proportions, use `doc-topics`\n",
        "words = [dictionary[word_id] for word_id, count in corpus[54]]\n",
        "print (words)"
      ],
      "execution_count": 68,
      "outputs": [
        {
          "output_type": "stream",
          "text": [
            "['govern', 'minist', 'view', 'depart', 'india', 'matter', 'order', 'peopl', 'left', 'sri', 'state', 'studi', 'union', 'develop', 'time', 'april', 'case', 'central', 'gujarat', 'pradesh', 'receiv', 'decis', 'high', 'commission', 'infrastructur', 'process', 'report', 'dump', 'issu', 'number', 'ministri', 'conduct', 'june', 'extens', 'regard', 'respons', 'technic', 'aspect', 'pertain', 'court', 'establish', 'grant', 'suprem', 'alleg', 'date', 'rais', 'lie', 'list', 'madhya', 'offic', 'present', 'primari', 'limit', 'fertil', 'file', 'low', 'sampl', 'test', 'bhopal', 'direct', 'legal', 'check', 'defenc', 'gas', 'welfar', 'chemic', 'jena', 'kumar', 'acut', 'behalf', 'complex', 'conclud', 'counter', 'defici', 'die', 'enabl', 'hear', 'leakag', 'oral', 'pesticid', 'petit', 'plant', 'pleas', 'quantum', 'reactor', 'residu', 'resolut', 'semi', 'site', 'sought', 'store', 'toxic', 'victim', 'wast']\n"
          ],
          "name": "stdout"
        },
        {
          "output_type": "stream",
          "text": [
            "/usr/local/lib/python3.6/dist-packages/smart_open/smart_open_lib.py:254: UserWarning: This function is deprecated, use smart_open.open instead. See the migration notes for details: https://github.com/RaRe-Technologies/smart_open/blob/master/README.rst#migrating-to-the-new-open-function\n",
            "  'See the migration notes for details: %s' % _MIGRATION_NOTES_URL\n"
          ],
          "name": "stderr"
        }
      ]
    },
    {
      "cell_type": "markdown",
      "metadata": {
        "id": "eWeS7gaS4V_x",
        "colab_type": "text"
      },
      "source": [
        "the function doc_topics checks the topic proportions on documents already trained on. It accepts the document number in the corpus as an input.\n",
        "\n",
        "Let's pick up document number 54 arbitrarily and have a look."
      ]
    },
    {
      "cell_type": "code",
      "metadata": {
        "id": "bKSNWHaZtVgo",
        "colab_type": "code",
        "colab": {
          "base_uri": "https://localhost:8080/",
          "height": 51
        },
        "outputId": "7308d65f-97fa-43cb-b8d4-c3e042a6fda5"
      },
      "source": [
        "doc_54 = ldaseq_load.doc_topics(54) # check the 54th document in the corpuses topic distribution\n",
        "print (doc_54)"
      ],
      "execution_count": 69,
      "outputs": [
        {
          "output_type": "stream",
          "text": [
            "[5.47625283e-02 1.06326422e-04 4.42681249e-01 5.02343570e-01\n",
            " 1.06326422e-04]\n"
          ],
          "name": "stdout"
        }
      ]
    },
    {
      "cell_type": "markdown",
      "metadata": {
        "id": "lfn60DwG_hBl",
        "colab_type": "text"
      },
      "source": [
        "Topic_2 and Topic_3 has high proportion in the doc_54"
      ]
    },
    {
      "cell_type": "markdown",
      "metadata": {
        "id": "0g6Hmxgv4fGy",
        "colab_type": "text"
      },
      "source": [
        "let's take a look to the actual dataset"
      ]
    },
    {
      "cell_type": "code",
      "metadata": {
        "id": "V9Vj-lovtzaC",
        "colab_type": "code",
        "colab": {}
      },
      "source": [
        "import pickle\n",
        "file_org = open(\"/content/drive/My Drive/PhD/data_set/Parliament/data.pkl\", \"rb\")\n",
        "org_df  = pickle.load(file_org)\n",
        "file_org.close()"
      ],
      "execution_count": 70,
      "outputs": []
    },
    {
      "cell_type": "code",
      "metadata": {
        "id": "q39D5CVAzBd4",
        "colab_type": "code",
        "colab": {
          "base_uri": "https://localhost:8080/",
          "height": 241
        },
        "outputId": "0de8e6d0-f965-4a7f-9bfe-bff0191459fd"
      },
      "source": [
        "print(org_df.loc[54,:])\n",
        "print(org_df.loc[54,'QnA'])"
      ],
      "execution_count": 71,
      "outputs": [
        {
          "output_type": "stream",
          "text": [
            "id                                                                 150054\n",
            "answer_date                                                    27.11.2009\n",
            "ministry                                        CHEMICALS AND FERTILIZERS\n",
            "question_type                                                   UNSTARRED\n",
            "question_no                                                           944\n",
            "question_by                                     Shri Satyavrat Chaturvedi\n",
            "question_title          REMOVAL OF TOXIC WASTE GENERATED BY UNION CARBIDE\n",
            "question_description    (a) the number of people who died due to leaka...\n",
            "answer                  MINISTER OF STATE IN THE MINISTRY OF CMEMICAIS...\n",
            "QnA                     (a) the number of people who died due to leaka...\n",
            "Name: 54, dtype: object\n",
            "(a) the number of people who died due to leakage of gas in the Union Carbide plant in 1984; (b) the quantum of toxic waste left in the complex; (c) Whether any study has been conducted to check the toxicity of the said waste after 25 years; (d) whether the State Government of Gujarat has filed a petition in the Supreme Court against decision of the High Court of Madhya Pradesh to dump toxic waste in Ankleshwar in Gujarat; and (e) whether Central Government has to present its view in the Supreme Court, if so whether It has presented its views in this matter ?MINISTER OF STATE IN THE MINISTRY OF CMEMICAIS AND FERTILIZERS (SHRI SRI KANT KUMAR JENA) (a) As per information received from the Office of the Welfare Commissioner, Bhopal Gas Victims, Bhopal, 5295 people died due to leakage of MIC gas in the Union Carbide plant in 1984. (b) As per information received from the State Government of Madhya Pradesh, 346 MT of stored toxic wastes are lying at the former Union Carbide Plant Limited (UCIL) site at Bhopal. (c) The Defence Research and Development Establishment (DRDE), Gwalior in June, 2008 conducted Acute Oral Toxicity Studies in Rats and Primary Skin Irritation Test in Rabbits of the stored Toxic Wastes at former UCIL plant site at Bhopal. In their report on Acute Oral toxicity, the report has concluded that all the samples viz. Excavated waste, Lime sludge, Napthol tar, Reactor residue, Semi processed pesticide and Sevin tar were having very low mammalian toxicity. With regard to Primary Skin Irritation Test, the report has concluded that all the samples were found to be non-irritant to the rabbit`s skin. (d) & (e): The State Government of Gujarat has filed two SLPs (No. 21936/2008 and No. CC 292 of 2009 ) in the Supreme Court against the Madhya Pradesh High Court Orders dated 15.7.2008 and 16.12.2008 containing direction for incineration of the 346 MT of toxic waste of former UCIL plant site at Bharuch Enviro Infrastructure Limited (BEIL ) incinerator, Ankleshwar. In response to the counter- affidavit filed by this Department on behalf of Union of India, the Government of Gujarat filed an affidavit on 13th April,2009 raising certain issues of alleged technical deficiencies and legal aspects pertaining to the BEIL incinerator at Ankleshwar. The Department of Chemicals and Petrochemicals on behalf of Union of India sought extension of time from the Supreme Court to enable resolution of the issues raised in the affidavit filed by Government of Gujarat. The Court was pleased to grant extension of time. The case Is listed for hearing on 22.01.2010.\n"
          ],
          "name": "stdout"
        }
      ]
    },
    {
      "cell_type": "markdown",
      "metadata": {
        "id": "y7lA8QYe_wMw",
        "colab_type": "text"
      },
      "source": [
        "Let's compare doc_54 with the document 52"
      ]
    },
    {
      "cell_type": "code",
      "metadata": {
        "id": "q96HWtQd9oK0",
        "colab_type": "code",
        "colab": {
          "base_uri": "https://localhost:8080/",
          "height": 51
        },
        "outputId": "4974ea48-4cb8-442b-f19d-c2f36b356572"
      },
      "source": [
        "doc_52 = ldaseq_load.doc_topics(52) # check the 52 document in the corpuses topic distribution\n",
        "print (doc_52)"
      ],
      "execution_count": 72,
      "outputs": [
        {
          "output_type": "stream",
          "text": [
            "[7.78501315e-01 1.16211505e-04 2.21150051e-01 1.16211505e-04\n",
            " 1.16211505e-04]\n"
          ],
          "name": "stdout"
        }
      ]
    },
    {
      "cell_type": "code",
      "metadata": {
        "id": "Qyr5BmwWursZ",
        "colab_type": "code",
        "colab": {
          "base_uri": "https://localhost:8080/",
          "height": 241
        },
        "outputId": "e5514536-e60d-411d-cad1-27656772bbf9"
      },
      "source": [
        "print(org_df.loc[52,:])\n",
        "print(org_df.loc[52,'QnA'])"
      ],
      "execution_count": 73,
      "outputs": [
        {
          "output_type": "stream",
          "text": [
            "id                                                                 150052\n",
            "answer_date                                                    20.11.2009\n",
            "ministry                                        CHEMICALS AND FERTILIZERS\n",
            "question_type                                                   UNSTARRED\n",
            "question_no                                                           169\n",
            "question_by                                         SHRI SHIVANAND TIWARI\n",
            "question_title                          PRICE OF MEDICINE FOR SWINE FLU .\n",
            "question_description    (a) whether it is a fact that the price of med...\n",
            "answer                  MINISTER OF STATE IN THE MINISTRY OF CHEMICALS...\n",
            "QnA                     (a) whether it is a fact that the price of med...\n",
            "Name: 52, dtype: object\n",
            "(a) whether it is a fact that the price of medicine used for the treatment of Swine Flu (fever) varies from Rs.450 to Rs.800 per 10 tablets in pharmaceutical market in the country; (b) if not, the facts thereof and whether Government has made proper assessment of the said price; and (c) if so, the assessment with regard to fair price of this medicine and the steps taken by Government to provide above-said medicine at fair price in the market?MINISTER OF STATE IN THE MINISTRY OF CHEMICALS AND FERTILIZERS (SHRI SRIKANT KUMAR JENA) (a) to (c): Government/National Pharmaceuticals Pricing Authority (NPPA) fixes/revises the prices of 74 bulk drugs, specified in the First Schedule of Drugs (Price Control) Order, 1995 (DPCO) and the formulations containing any of these Scheduled drugs. The prices of Scheduled formulations are fixed or revised in accordance with the paragraph 7 of the DPCO, 1995. No one can sell any Scheduled drug/formulation at a price higher than the price fixed by NPPA. Prices of Non-Scheduled formulations are fixed by the manufacturers themselves keeping in view the various factors like cost of production, marketing/selling expenses, R&D expenses, trade commission, market competition, product innovation, product quality etc/ The Government takes corrective measures where the public interest is found to be adversely affected. The NPPA monitors the prices of all formulations based on the reports of ORG IMS and the information furnished by the individual manufacturers. Wherever a price increase beyond 10% per annum (20% before 1.4.2007) is noticed, the manufacturer is asked to bring down the price voluntarily failing which, subject to prescribed conditions action is initiated under paragraph 10(b) of the DPCO, 1995 for fixing the price of formulation in public interest. This is an ongoing process. The most commonly medicine used in treatment of Influenza A H1N1 (Swine Flu) is Oseltamivir. The medicine is being marketed at around Rs.450/- to 480/-per strip of 10 tablets. The Department of Pharmaceuticals is regularly holding meetings with the concerned companies marketing/manufacturing oseltamivir formulations to monitor the availability and pricing scenario of the medicine in the country.\n"
          ],
          "name": "stdout"
        }
      ]
    },
    {
      "cell_type": "markdown",
      "metadata": {
        "id": "zedPeZvYBy2D",
        "colab_type": "text"
      },
      "source": [
        "# Distances between documents"
      ]
    },
    {
      "cell_type": "markdown",
      "metadata": {
        "id": "p7hNtCVlB1ds",
        "colab_type": "text"
      },
      "source": [
        "One of the more handy uses of DTMs topic modelling is that we can compare documents across different time-frames and see how similar they are topic-wise. When words may not necessarily overlap over these time-periods, this is very useful."
      ]
    },
    {
      "cell_type": "code",
      "metadata": {
        "id": "CzRAWu2L-nEd",
        "colab_type": "code",
        "colab": {
          "base_uri": "https://localhost:8080/",
          "height": 34
        },
        "outputId": "27e39410-45cd-45ce-e9ae-b7b19d793d1a"
      },
      "source": [
        "hellinger(doc_54, doc_52)"
      ],
      "execution_count": 74,
      "outputs": [
        {
          "output_type": "execute_result",
          "data": {
            "text/plain": [
              "0.6875842649910007"
            ]
          },
          "metadata": {
            "tags": []
          },
          "execution_count": 74
        }
      ]
    },
    {
      "cell_type": "code",
      "metadata": {
        "id": "cObuS0Ri9w9V",
        "colab_type": "code",
        "colab": {
          "base_uri": "https://localhost:8080/",
          "height": 51
        },
        "outputId": "fa47c748-3609-4ef0-f11a-0484affeb17a"
      },
      "source": [
        "doc_53 = ldaseq_load.doc_topics(53) # check the 53rd document in the corpuses topic distribution\n",
        "print (doc_53)"
      ],
      "execution_count": 75,
      "outputs": [
        {
          "output_type": "stream",
          "text": [
            "[2.76485260e-01 1.92122959e-04 1.92122959e-04 1.92122959e-04\n",
            " 7.22938372e-01]\n"
          ],
          "name": "stdout"
        }
      ]
    },
    {
      "cell_type": "code",
      "metadata": {
        "id": "6plZoDatyEup",
        "colab_type": "code",
        "colab": {
          "base_uri": "https://localhost:8080/",
          "height": 241
        },
        "outputId": "e862f5d8-ebd4-402f-f3fc-fa33bc615d8a"
      },
      "source": [
        "print(org_df.loc[53,:])\n",
        "print(org_df.loc[53,'QnA'])"
      ],
      "execution_count": 76,
      "outputs": [
        {
          "output_type": "stream",
          "text": [
            "id                                                                 150053\n",
            "answer_date                                                    27.11.2009\n",
            "ministry                                        CHEMICALS AND FERTILIZERS\n",
            "question_type                                                   UNSTARRED\n",
            "question_no                                                           942\n",
            "question_by                                          SHRI KANJIBHAI PATEL\n",
            "question_title                                   ESTABLISHMENT OF PCPIR .\n",
            "question_description    (a) Whether Government has decided to establis...\n",
            "answer                  THE MINISTER OF STATE IN THE MINISTRY OF CHEMI...\n",
            "QnA                     (a) Whether Government has decided to establis...\n",
            "Name: 53, dtype: object\n",
            "(a) Whether Government has decided to establish Petroleum, Chemicals and Petrochemical Investment Regions (PCP1R) in the country; (b) If so, the number of such PCPIRs proposed to be established with details thereof, State-wise; and (c) Whether work towards establishing of any such Petroleum, Chemical and Petrochemical Investment Region has started?THE MINISTER OF STATE IN THE MINISTRY OF CHEMICALS AND FERTILIZERS (SHRI SRIKANT KUMAR JENA) (a) The PCPIR policy of the Government of India was announced on 4.2.2007. (b) Till now, Government of India has approved the PCPIR proposals of Government(s) of Andhra Pradesh, Gujarat and West Bengal. The PCPIR proposed in the State of Andhra Pradesh will be located at Visakhapatnam and East Godavari Districts (Visakhapatnam-Kakinada and Rajahmundry region) covering an area of 603 sq. kms. The proposed PCPIR in Gujarat will be spread over the blocks of Vagra and Bharuch in the District of South Gujarat covering an area of 453 sq. kms. while the proposed PCPIR in West Bengal will be located in Haldia in Purva Madinipur district covering the existing Haldia Municipal Area and adjoining areas of Haldia Development Authority spread over an area of 250.19 sq. kms. (c) Memoranda of Agreement(s) have been signed between Government of India represented by Department of Chemicals and Petrochemicals and State Government(s) of Andhra Pradesh and West Bengal for setting up of the PCPIRs.\n"
          ],
          "name": "stdout"
        }
      ]
    },
    {
      "cell_type": "code",
      "metadata": {
        "id": "oS3wCGp5_Lnd",
        "colab_type": "code",
        "colab": {
          "base_uri": "https://localhost:8080/",
          "height": 34
        },
        "outputId": "3436f579-6987-4191-b44c-d45d65a5d485"
      },
      "source": [
        "hellinger(doc_52, doc_53)"
      ],
      "execution_count": 77,
      "outputs": [
        {
          "output_type": "execute_result",
          "data": {
            "text/plain": [
              "0.7211607735759085"
            ]
          },
          "metadata": {
            "tags": []
          },
          "execution_count": 77
        }
      ]
    },
    {
      "cell_type": "markdown",
      "metadata": {
        "id": "toE9LCK2CeAg",
        "colab_type": "text"
      },
      "source": [
        "# Visualising Dynamic Topic Models"
      ]
    },
    {
      "cell_type": "code",
      "metadata": {
        "id": "9iX9f9CS32MJ",
        "colab_type": "code",
        "colab": {
          "base_uri": "https://localhost:8080/",
          "height": 374
        },
        "outputId": "e4c12e94-8aab-4016-835b-db7a85e41bed"
      },
      "source": [
        "!pip install pyLDAvis"
      ],
      "execution_count": 78,
      "outputs": [
        {
          "output_type": "stream",
          "text": [
            "Requirement already satisfied: pyLDAvis in /usr/local/lib/python3.6/dist-packages (2.1.2)\n",
            "Requirement already satisfied: wheel>=0.23.0 in /usr/local/lib/python3.6/dist-packages (from pyLDAvis) (0.35.1)\n",
            "Requirement already satisfied: scipy>=0.18.0 in /usr/local/lib/python3.6/dist-packages (from pyLDAvis) (1.4.1)\n",
            "Requirement already satisfied: numexpr in /usr/local/lib/python3.6/dist-packages (from pyLDAvis) (2.7.1)\n",
            "Requirement already satisfied: future in /usr/local/lib/python3.6/dist-packages (from pyLDAvis) (0.16.0)\n",
            "Requirement already satisfied: numpy>=1.9.2 in /usr/local/lib/python3.6/dist-packages (from pyLDAvis) (1.18.5)\n",
            "Requirement already satisfied: pytest in /usr/local/lib/python3.6/dist-packages (from pyLDAvis) (3.6.4)\n",
            "Requirement already satisfied: jinja2>=2.7.2 in /usr/local/lib/python3.6/dist-packages (from pyLDAvis) (2.11.2)\n",
            "Requirement already satisfied: joblib>=0.8.4 in /usr/local/lib/python3.6/dist-packages (from pyLDAvis) (0.16.0)\n",
            "Requirement already satisfied: pandas>=0.17.0 in /usr/local/lib/python3.6/dist-packages (from pyLDAvis) (1.0.5)\n",
            "Requirement already satisfied: funcy in /usr/local/lib/python3.6/dist-packages (from pyLDAvis) (1.14)\n",
            "Requirement already satisfied: atomicwrites>=1.0 in /usr/local/lib/python3.6/dist-packages (from pytest->pyLDAvis) (1.4.0)\n",
            "Requirement already satisfied: pluggy<0.8,>=0.5 in /usr/local/lib/python3.6/dist-packages (from pytest->pyLDAvis) (0.7.1)\n",
            "Requirement already satisfied: six>=1.10.0 in /usr/local/lib/python3.6/dist-packages (from pytest->pyLDAvis) (1.15.0)\n",
            "Requirement already satisfied: setuptools in /usr/local/lib/python3.6/dist-packages (from pytest->pyLDAvis) (50.3.0)\n",
            "Requirement already satisfied: py>=1.5.0 in /usr/local/lib/python3.6/dist-packages (from pytest->pyLDAvis) (1.9.0)\n",
            "Requirement already satisfied: attrs>=17.4.0 in /usr/local/lib/python3.6/dist-packages (from pytest->pyLDAvis) (20.2.0)\n",
            "Requirement already satisfied: more-itertools>=4.0.0 in /usr/local/lib/python3.6/dist-packages (from pytest->pyLDAvis) (8.5.0)\n",
            "Requirement already satisfied: MarkupSafe>=0.23 in /usr/local/lib/python3.6/dist-packages (from jinja2>=2.7.2->pyLDAvis) (1.1.1)\n",
            "Requirement already satisfied: python-dateutil>=2.6.1 in /usr/local/lib/python3.6/dist-packages (from pandas>=0.17.0->pyLDAvis) (2.8.1)\n",
            "Requirement already satisfied: pytz>=2017.2 in /usr/local/lib/python3.6/dist-packages (from pandas>=0.17.0->pyLDAvis) (2018.9)\n"
          ],
          "name": "stdout"
        }
      ]
    },
    {
      "cell_type": "code",
      "metadata": {
        "id": "ra7qZo9Fz-LT",
        "colab_type": "code",
        "colab": {
          "base_uri": "https://localhost:8080/",
          "height": 71
        },
        "outputId": "b0a1fdd0-a1b1-4dee-d67d-51e5a1228608"
      },
      "source": [
        "from gensim.corpora import Dictionary, bleicorpus\n",
        "import pyLDAvis\n",
        "vis_wrapper =[]\n",
        "for i,t in enumerate([2009, 2010, 2011, 2012, 2013, 2014, 2015, 2016, 2017]):\n",
        "  doc_topic, topic_term, doc_lengths, term_frequency, vocab = ldaseq_load.dtm_vis(time=i, corpus=corpus)\n",
        "  vis_wrapper.append(pyLDAvis.prepare(topic_term_dists=topic_term, doc_topic_dists=doc_topic, doc_lengths=doc_lengths, vocab=vocab, term_frequency=term_frequency))\n",
        "  path = 'dtm_' +str(t) + '.html'\n",
        "  pyLDAvis.save_html(vis_wrapper[i], path)"
      ],
      "execution_count": 64,
      "outputs": [
        {
          "output_type": "stream",
          "text": [
            "/usr/local/lib/python3.6/dist-packages/smart_open/smart_open_lib.py:254: UserWarning: This function is deprecated, use smart_open.open instead. See the migration notes for details: https://github.com/RaRe-Technologies/smart_open/blob/master/README.rst#migrating-to-the-new-open-function\n",
            "  'See the migration notes for details: %s' % _MIGRATION_NOTES_URL\n"
          ],
          "name": "stderr"
        }
      ]
    }
  ]
}